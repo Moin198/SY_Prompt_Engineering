{
 "cells": [
  {
   "cell_type": "code",
   "execution_count": null,
   "id": "5f62edd3-99b4-411f-9c49-ff55237e90c1",
   "metadata": {},
   "outputs": [],
   "source": []
  },
  {
   "cell_type": "code",
   "execution_count": 9,
   "id": "89599a47-207f-4171-a8b2-96720acb898b",
   "metadata": {},
   "outputs": [
    {
     "name": "stdout",
     "output_type": "stream",
     "text": [
      "🤖 Hello! I'm PromptBot — your AI study buddy.\n",
      "Let's talk about Prompt Engineering.\n",
      "Type 'exit' anytime to end our chat.\n",
      "\n"
     ]
    },
    {
     "name": "stdin",
     "output_type": "stream",
     "text": [
      "You:  explain prompt \n"
     ]
    },
    {
     "name": "stdout",
     "output_type": "stream",
     "text": [
      "PromptBot: Hmm... I didn’t quite get that.\n",
      "You can ask things like 'what is prompt engineering', 'importance', 'example', or 'applications'.\n"
     ]
    },
    {
     "name": "stdin",
     "output_type": "stream",
     "text": [
      "You:  what are the importance of prompt engineering\n"
     ]
    },
    {
     "name": "stdout",
     "output_type": "stream",
     "text": [
      "PromptBot: Great question! Prompt Engineering is important because:\n",
      "1️⃣ It improves accuracy and relevance of AI responses.\n",
      "2️⃣ It saves time by reducing errors or vague answers.\n",
      "3️⃣ It helps engineers control how AI behaves — useful in chatbots, data analysis, and coding support.\n"
     ]
    },
    {
     "name": "stdin",
     "output_type": "stream",
     "text": [
      "You:  what is prompt\n"
     ]
    },
    {
     "name": "stdout",
     "output_type": "stream",
     "text": [
      "PromptBot: Hmm... I didn’t quite get that.\n",
      "You can ask things like 'what is prompt engineering', 'importance', 'example', or 'applications'.\n"
     ]
    },
    {
     "name": "stdin",
     "output_type": "stream",
     "text": [
      "You:  exit\n"
     ]
    },
    {
     "name": "stdout",
     "output_type": "stream",
     "text": [
      "PromptBot: 👋 Goodbye! Keep learning prompt engineering!\n"
     ]
    }
   ],
   "source": [
    "# Simple Chatbot: PromptBot\n",
    "# Explains importance of Prompt Engineering for 2nd year Engineering Students\n",
    "\n",
    "print(\"🤖 Hello! I'm PromptBot — your AI study buddy.\")\n",
    "print(\"Let's talk about Prompt Engineering.\")\n",
    "print(\"Type 'exit' anytime to end our chat.\\n\")\n",
    "\n",
    "while True:\n",
    "    user_input = input(\"You: \").lower()\n",
    "\n",
    "    if user_input in [\"exit\", \"quit\", \"bye\"]:\n",
    "        print(\"PromptBot: 👋 Goodbye! Keep learning prompt engineering!\")\n",
    "        break\n",
    "\n",
    "    elif \"what is prompt engineering\" in user_input:\n",
    "        print(\"PromptBot: Prompt Engineering means designing clear and structured instructions for AI models.\")\n",
    "        print(\"It helps AI understand exactly what kind of answer you want.\")\n",
    "\n",
    "    elif \"importance\" in user_input or \"why\" in user_input:\n",
    "        print(\"PromptBot: Great question! Prompt Engineering is important because:\")\n",
    "        print(\"1️⃣ It improves accuracy and relevance of AI responses.\")\n",
    "        print(\"2️⃣ It saves time by reducing errors or vague answers.\")\n",
    "        print(\"3️⃣ It helps engineers control how AI behaves — useful in chatbots, data analysis, and coding support.\")\n",
    "\n",
    "    elif \"example\" in user_input:\n",
    "        print(\"PromptBot: Sure! Example:\")\n",
    "        print(\"❌ Bad prompt: 'Write about AI.'\")\n",
    "        print(\"✅ Good prompt: 'Explain how AI helps in medical diagnosis in 100 words using simple terms.'\")\n",
    "        print(\"The second one guides the AI better — that’s prompt engineering!\")\n",
    "\n",
    "    elif \"applications\" in user_input or \"use\" in user_input:\n",
    "        print(\"PromptBot: Prompt Engineering is used in chatbots, code generation, data science, and research tools.\")\n",
    "        print(\"For example, engineers use prompts to make AI summarize data, generate reports, or debug code.\")\n",
    "\n",
    "    elif \"who uses\" in user_input:\n",
    "        print(\"PromptBot: Software engineers, data scientists, teachers, and students all use prompt engineering!\")\n",
    "        print(\"Even ChatGPT responses depend on how good your prompts are 😉\")\n",
    "\n",
    "    else:\n",
    "        print(\"PromptBot: Hmm... I didn’t quite get that.\")\n",
    "        print(\"You can ask things like 'what is prompt engineering', 'importance', 'example', or 'applications'.\")\n",
    "\n"
   ]
  },
  {
   "cell_type": "code",
   "execution_count": 10,
   "id": "d3fa8f56-c583-4863-abf1-950bfb7e2978",
   "metadata": {},
   "outputs": [
    {
     "name": "stderr",
     "output_type": "stream",
     "text": [
      "Exception in Tkinter callback\n",
      "Traceback (most recent call last):\n",
      "  File \"C:\\Program Files\\Python313\\Lib\\tkinter\\__init__.py\", line 2068, in __call__\n",
      "    return self.func(*args)\n",
      "           ~~~~~~~~~^^^^^^^\n",
      "  File \"C:\\Users\\Admin\\AppData\\Local\\Temp\\ipykernel_9280\\4220818352.py\", line 46, in send_message\n",
      "    chat_window.insert(tk.END, f\"PromptBot: {response}\\n\\n\", \"bot\")\n",
      "    ~~~~~~~~~~~~~~~~~~^^^^^^^^^^^^^^^^^^^^^^^^^^^^^^^^^^^^^^^^^^^^^\n",
      "  File \"C:\\Program Files\\Python313\\Lib\\tkinter\\__init__.py\", line 3967, in insert\n",
      "    self.tk.call((self._w, 'insert', index, chars) + args)\n",
      "    ~~~~~~~~~~~~^^^^^^^^^^^^^^^^^^^^^^^^^^^^^^^^^^^^^^^^^^\n",
      "_tkinter.TclError: invalid command name \".!frame.!scrolledtext\"\n"
     ]
    }
   ],
   "source": [
    "# GUI-based Chatbot using Tkinter\n",
    "# Created for Second-Year Engineering Students\n",
    "# Explains Prompt Engineering in a fun, interactive way\n",
    "\n",
    "import tkinter as tk\n",
    "from tkinter import scrolledtext\n",
    "\n",
    "def get_response(user_input):\n",
    "    user_input = user_input.lower()\n",
    "\n",
    "    if \"what is prompt engineering\" in user_input:\n",
    "        return (\"Prompt Engineering means writing clear, structured instructions for AI systems \"\n",
    "                \"so they can understand your goal better.\")\n",
    "\n",
    "    elif \"importance\" in user_input or \"why\" in user_input:\n",
    "        return (\"Prompt Engineering is important because:\\n\"\n",
    "                \"1️⃣ It improves the accuracy and quality of AI responses.\\n\"\n",
    "                \"2️⃣ It helps engineers control the AI’s behavior.\\n\"\n",
    "                \"3️⃣ It saves time by making the AI respond more effectively.\")\n",
    "\n",
    "    elif \"example\" in user_input:\n",
    "        return (\"Example:\\n\"\n",
    "                \"❌ Bad prompt: 'Explain AI.'\\n\"\n",
    "                \"✅ Good prompt: 'Explain Artificial Intelligence in 3 simple sentences for beginners.'\")\n",
    "\n",
    "    elif \"applications\" in user_input or \"use\" in user_input:\n",
    "        return (\"Prompt Engineering is used in:\\n\"\n",
    "                \"💬 Chatbots\\n💻 Coding assistants\\n📊 Data analysis\\n🧠 Research and education tools.\")\n",
    "\n",
    "    elif \"who uses\" in user_input:\n",
    "        return (\"Students, software developers, teachers, and data scientists all use prompt engineering!\")\n",
    "\n",
    "    elif user_input in [\"exit\", \"quit\", \"bye\"]:\n",
    "        root.destroy()\n",
    "        return \"Goodbye 👋 Keep learning Prompt Engineering!\"\n",
    "\n",
    "    else:\n",
    "        return (\"Try asking about:\\n👉 What is Prompt Engineering\\n👉 Importance\\n👉 Example\\n👉 Applications\")\n",
    "\n",
    "def send_message():\n",
    "    user_input = entry.get()\n",
    "    if user_input.strip() == \"\":\n",
    "        return\n",
    "    chat_window.insert(tk.END, f\"You: {user_input}\\n\", \"user\")\n",
    "    response = get_response(user_input)\n",
    "    chat_window.insert(tk.END, f\"PromptBot: {response}\\n\\n\", \"bot\")\n",
    "    entry.delete(0, tk.END)\n",
    "    chat_window.yview(tk.END)\n",
    "\n",
    "# GUI Setup\n",
    "root = tk.Tk()\n",
    "root.title(\"PromptBot - Learn Prompt Engineering 🤖\")\n",
    "root.geometry(\"550x450\")\n",
    "\n",
    "chat_window = scrolledtext.ScrolledText(root, wrap=tk.WORD, font=(\"Arial\", 11))\n",
    "chat_window.pack(padx=10, pady=10, fill=tk.BOTH, expand=True)\n",
    "chat_window.tag_config(\"user\", foreground=\"blue\")\n",
    "chat_window.tag_config(\"bot\", foreground=\"green\")\n",
    "\n",
    "entry_frame = tk.Frame(root)\n",
    "entry_frame.pack(fill=tk.X, padx=10, pady=5)\n",
    "\n",
    "entry = tk.Entry(entry_frame, font=(\"Arial\", 12))\n",
    "entry.pack(side=tk.LEFT, fill=tk.X, expand=True, padx=(0, 10))\n",
    "\n",
    "send_button = tk.Button(entry_frame, text=\"Send\", command=send_message, bg=\"#4CAF50\", fg=\"white\", font=(\"Arial\", 11))\n",
    "send_button.pack(side=tk.RIGHT)\n",
    "\n",
    "chat_window.insert(tk.END, \"PromptBot: 👋 Hello! I'm PromptBot.\\nAsk me about Prompt Engineering.\\n\\n\", \"bot\")\n",
    "\n",
    "root.mainloop()\n"
   ]
  },
  {
   "cell_type": "code",
   "execution_count": null,
   "id": "b4cd62fc-ec9b-4aa7-bc50-f9c1207edc79",
   "metadata": {},
   "outputs": [],
   "source": []
  }
 ],
 "metadata": {
  "kernelspec": {
   "display_name": "Python 3 (ipykernel)",
   "language": "python",
   "name": "python3"
  },
  "language_info": {
   "codemirror_mode": {
    "name": "ipython",
    "version": 3
   },
   "file_extension": ".py",
   "mimetype": "text/x-python",
   "name": "python",
   "nbconvert_exporter": "python",
   "pygments_lexer": "ipython3",
   "version": "3.13.2"
  }
 },
 "nbformat": 4,
 "nbformat_minor": 5
}
